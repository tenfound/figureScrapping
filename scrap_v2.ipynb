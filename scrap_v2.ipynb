{
 "cells": [
  {
   "cell_type": "code",
   "execution_count": 10,
   "metadata": {},
   "outputs": [],
   "source": [
    "from selenium import webdriver\n",
    "from selenium.webdriver.chrome.service import Service\n",
    "from selenium.webdriver.chrome.options import Options\n",
    "from webdriver_manager.chrome import ChromeDriverManager\n",
    "from bs4 import BeautifulSoup\n",
    "from time import sleep\n",
    "import time"
   ]
  },
  {
   "cell_type": "code",
   "execution_count": 11,
   "metadata": {},
   "outputs": [],
   "source": [
    "# Setup Selenium options\n",
    "options = Options()\n",
    "\n",
    "# Do NOT use headless mode initially to see the CAPTCHA/challenge\n",
    "# options.add_argument(\"--headless\")  # You can enable this later\n",
    "options.add_argument(\"--disable-gpu\")\n",
    "# options.add_argument(\"--no-sandbox\")\n",
    "# options.add_argument(\"--disable-dev-shm-usage\")\n",
    "\n",
    "# Initialize the driver\n",
    "service = Service(ChromeDriverManager().install())\n",
    "driver = webdriver.Chrome(service=service, options=options)\n",
    "\n",
    "pages = 1\n",
    "gcode_list = []\n",
    "while pages <= 2 :\n",
    "    base_URL = \"https://www.amiami.com/eng/search/list/?s_condition_flg=1&s_st_condition_flg=1&s_sortkey=preowned&pagecnt=\"\n",
    "    final_URL = base_URL + str(pages)\n",
    "    driver.get(final_URL)\n",
    "    time.sleep(10)\n",
    "\n",
    "    page_html = driver.page_source\n",
    "    soup = BeautifulSoup(page_html, 'html.parser')\n",
    "    items = soup.find(class_='new-items__inner').findAll('a', href=True)\n",
    "\n",
    "    for item in items:\n",
    "        gcode = item['href']  # Extract the href attribute (the URL)\n",
    "        gcode_list.append(gcode)\n",
    "    pages += 1\n",
    "\n",
    "# driver.quit()\n",
    "        "
   ]
  },
  {
   "cell_type": "code",
   "execution_count": 12,
   "metadata": {},
   "outputs": [],
   "source": [
    "base_link = \"https://www.amiami.com\"\n",
    "count = 0\n",
    "# for gcode_url in gcode_list:\n",
    "# figure_url = base_link + gcode_list[0]\n",
    "doubleprice_URL = \"https://www.amiami.com/eng/detail/?gcode=FIGURE-156533-R\"\n",
    "\n",
    "# driver.get(figure_url)\n",
    "driver.get(doubleprice_URL)\n",
    "time.sleep(10)\n",
    "\n",
    "figure_html = driver.page_source\n",
    "driver.quit()\n",
    "\n",
    "figure_soup = BeautifulSoup(figure_html, \"html.parser\")\n",
    "item_details = figure_soup.findAll(class_ = ['item-detail__right', 'item-about'])"
   ]
  },
  {
   "cell_type": "code",
   "execution_count": 13,
   "metadata": {},
   "outputs": [
    {
     "name": "stdout",
     "output_type": "stream",
     "text": [
      "23,980JPY21,980JPY\n"
     ]
    }
   ],
   "source": [
    "# price1 = figure_soup.findAll(class_ = [\"item-detail__price\"])\n",
    "price = figure_soup.find(class_ = [\"item-detail__price\"])\n",
    "temp = price\n",
    "doubleprice = temp\n",
    "print(doubleprice.text)"
   ]
  },
  {
   "cell_type": "code",
   "execution_count": 16,
   "metadata": {},
   "outputs": [
    {
     "name": "stdout",
     "output_type": "stream",
     "text": [
      "Aug-2024\n",
      "23,980 JPY\n",
      "FIGURE-156533-R011\n",
      "4580692150239\n",
      "MIMEYOI \n",
      "Azur Lane\n",
      "Javelin\n",
      "Takeuchi Eldora Model\n"
     ]
    }
   ],
   "source": [
    "item_about = figure_soup.findAll(class_ = [\"item-about__data-text\"], limit = 8)\n",
    "for i in item_about:\n",
    "    print(i.text)"
   ]
  },
  {
   "cell_type": "code",
   "execution_count": 39,
   "metadata": {},
   "outputs": [
    {
     "name": "stdout",
     "output_type": "stream",
     "text": [
      "<dd class=\"item-about__data-text more\">\n",
      " Pre-painted Complete Figure\n",
      " <br/>\n",
      " Scale: 1/7\n",
      " <br/>\n",
      " Size: (As prototype, base included) : H275mm (Height to spear tip 245mm to top of head) W265mm (Spear base to spear tip) D228mm\n",
      " <br/>\n",
      " Material: PVC &amp; ABS\n",
      " <br/>\n",
      " Features: Removable veil (Uses alternative back of the hair part)\n",
      " <br/>\n",
      " <br/>\n",
      " [Set Contents]\n",
      " <br/>\n",
      " Main figure\n",
      " <br/>\n",
      " Acrylic base (20mm thick)\n",
      "</dd>\n",
      "\n",
      "Pre-painted Complete Figure\n",
      "Scale: 1/7\n",
      "Size: (As prototype, base included) : H275mm (Height to spear tip 245mm to top of head) W265mm (Spear base to spear tip) D228mm\n",
      "Material: PVC & ABS\n",
      "Features: Removable veil (Uses alternative back of the hair part)\n",
      "[Set Contents]\n",
      "Main figure\n",
      "Acrylic base (20mm thick)\n"
     ]
    }
   ],
   "source": [
    "item_specs = figure_soup.find(class_ = [\"more\"])\n",
    "print(item_specs.prettify())\n",
    "specs = item_specs.get_text(\"|\")    # Joins the bits of text together using | & clears out the <br/> tags\n",
    "splitSpecs = specs.split(\"|\")       # Separates the long string into bits of strings so we can access stuff we want easier\n",
    "for s in splitSpecs:\n",
    "    print(s)"
   ]
  },
  {
   "cell_type": "code",
   "execution_count": 40,
   "metadata": {},
   "outputs": [
    {
     "name": "stdout",
     "output_type": "stream",
     "text": [
      "Size: (As prototype, base included) : H275mm (Height to spear tip 245mm to top of head) W265mm (Spear base to spear tip) D228mm\n"
     ]
    }
   ],
   "source": [
    "for s in splitSpecs:\n",
    "    if \"Size\" not in s:\n",
    "        continue\n",
    "    else:\n",
    "        Size = s\n",
    "\n",
    "print(Size)"
   ]
  }
 ],
 "metadata": {
  "kernelspec": {
   "display_name": "myenv",
   "language": "python",
   "name": "python3"
  },
  "language_info": {
   "codemirror_mode": {
    "name": "ipython",
    "version": 3
   },
   "file_extension": ".py",
   "mimetype": "text/x-python",
   "name": "python",
   "nbconvert_exporter": "python",
   "pygments_lexer": "ipython3",
   "version": "3.10.13"
  }
 },
 "nbformat": 4,
 "nbformat_minor": 2
}
