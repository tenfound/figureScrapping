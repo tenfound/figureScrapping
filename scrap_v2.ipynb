{
 "cells": [
  {
   "cell_type": "code",
   "execution_count": 24,
   "metadata": {},
   "outputs": [],
   "source": [
    "from selenium import webdriver\n",
    "from selenium.webdriver.chrome.service import Service\n",
    "from selenium.webdriver.chrome.options import Options\n",
    "from webdriver_manager.chrome import ChromeDriverManager\n",
    "from bs4 import BeautifulSoup\n",
    "from time import sleep\n",
    "import time\n",
    "import pandas as pd\n",
    "import numpy as np"
   ]
  },
  {
   "cell_type": "code",
   "execution_count": 25,
   "metadata": {},
   "outputs": [],
   "source": [
    "# Setup Selenium options\n",
    "options = Options()\n",
    "\n",
    "# Do NOT use headless mode initially to see the CAPTCHA/challenge\n",
    "# options.add_argument(\"--headless\")  # You can enable this later\n",
    "options.add_argument(\"--disable-gpu\")\n",
    "# options.add_argument(\"--no-sandbox\")\n",
    "# options.add_argument(\"--disable-dev-shm-usage\")\n",
    "\n",
    "# Initialize the driver\n",
    "service = Service(ChromeDriverManager().install())\n",
    "driver = webdriver.Chrome(service=service, options=options)\n",
    "\n",
    "name_list = []\n",
    "date_list = []\n",
    "price_list = []\n",
    "shop_code_list = []\n",
    "JAN_code_list = []\n",
    "brand_list = []\n",
    "series_title_list = []\n",
    "char_name_list = []\n",
    "sculptor_list = []\n",
    "size_list = []\n",
    "gcode_list = []\n",
    "pages = 1\n",
    "\n",
    "while pages <= 2 :\n",
    "    base_URL = \"https://www.amiami.com/eng/search/list/?s_condition_flg=1&s_st_condition_flg=1&s_sortkey=preowned&pagecnt=\"\n",
    "    final_URL = base_URL + str(pages)\n",
    "    driver.get(final_URL)\n",
    "    time.sleep(10)\n",
    "\n",
    "    page_html = driver.page_source\n",
    "    soup = BeautifulSoup(page_html, 'html.parser')\n",
    "    items = soup.find(class_='new-items__inner').findAll('a', href=True)\n",
    "\n",
    "    for item in items:\n",
    "        gcode = item['href']  # Extract the href attribute (the URL)\n",
    "        gcode_list.append(gcode)\n",
    "    pages += 1\n",
    "\n",
    "# driver.quit()\n",
    "        "
   ]
  },
  {
   "cell_type": "code",
   "execution_count": 26,
   "metadata": {},
   "outputs": [],
   "source": [
    "base_link = \"https://www.amiami.com\"\n",
    "count = 0\n",
    "# for gcode_url in gcode_list:\n",
    "figure_url = base_link + gcode_list[9]\n",
    "# doubleprice_URL = \"https://www.amiami.com/eng/detail/?gcode=FIGURE-156533-R\"\n",
    "\n",
    "driver.get(figure_url)\n",
    "# driver.get(doubleprice_URL)\n",
    "time.sleep(10)\n",
    "\n",
    "figure_html = driver.page_source\n",
    "driver.quit()\n",
    "\n",
    "figure_soup = BeautifulSoup(figure_html, \"html.parser\")\n",
    "item_details = figure_soup.findAll(class_ = ['item-detail__right', 'item-about'])"
   ]
  },
  {
   "cell_type": "code",
   "execution_count": 27,
   "metadata": {},
   "outputs": [],
   "source": [
    "# price1 = figure_soup.findAll(class_ = [\"item-detail__price\"])\n",
    "# price = figure_soup.find(class_ = [\"item-detail__price\"])\n",
    "# temp = price\n",
    "# doubleprice = temp\n",
    "# print(doubleprice.text)"
   ]
  },
  {
   "cell_type": "code",
   "execution_count": 28,
   "metadata": {},
   "outputs": [],
   "source": [
    "item_about = figure_soup.findAll(class_ = [\"item-about__data-text\"], limit = 10)\n",
    "        \n",
    "temp_list = []\n",
    "for i in item_about:\n",
    "    temp_list.append(i.text)\n",
    "    \n",
    "fig_name = figure_soup.find(class_ = [\"item-detail__section-title\"]).text\n",
    "fig_release_date = temp_list[0]\n",
    "fig_price = temp_list[1]\n",
    "fig_shop_code = temp_list[2]\n",
    "fig_JAN_code = temp_list[3]\n",
    "fig_brand = temp_list[4]\n",
    "fig_series_title = temp_list[5]\n",
    "fig_char_name = temp_list[6]\n",
    "if temp_list[7] == \"The maximum purchase quantity for this item is 1 per account/shipping address.\":\n",
    "    fig_sculptor = np.nan\n",
    "else:\n",
    "    fig_sculptor = temp_list[7]    "
   ]
  },
  {
   "cell_type": "code",
   "execution_count": 29,
   "metadata": {},
   "outputs": [
    {
     "name": "stdout",
     "output_type": "stream",
     "text": [
      "Jan-2011\n",
      "3,666 JPY\n",
      "FIG-MOE-2182-R578\n",
      "4582191967318\n",
      "Good Smile Company\n",
      "\"Nendoroid\" SeriesNendoroid\n",
      "K-On!\"K-On!\" Series\n",
      "Ui Hirasawa\n",
      "Ryuuichi Peacemaker\n",
      "The maximum purchase quantity for this item is 1 per account/shipping address.\n"
     ]
    }
   ],
   "source": [
    "for i in item_about:\n",
    "    print(i.text)"
   ]
  },
  {
   "cell_type": "code",
   "execution_count": 30,
   "metadata": {},
   "outputs": [
    {
     "name": "stdout",
     "output_type": "stream",
     "text": [
      "(Pre-owned ITEM:B/BOX:B)Nendoroid - K-On!: Ui Hirasawa(Released)\n"
     ]
    }
   ],
   "source": [
    "print(fig_name)"
   ]
  },
  {
   "cell_type": "code",
   "execution_count": 22,
   "metadata": {},
   "outputs": [
    {
     "name": "stdout",
     "output_type": "stream",
     "text": [
      "Please confirm the following conditions of pre-owned items before placing order.\n",
      "-Product image\n",
      "Pictures and images are not photographs of actual products. Please find the Condition Rank about the state of the products for your reference.\n",
      "-Condition Rank of the products.\n",
      "A: Item is sealed and is unopened or appears to be unopened.\n",
      "A-: Item is not sealed but appears to be unopened.\n",
      "B+: Item has been opened but no damage is visible. All bundled items are included.\n",
      "B: Item has been opened and minor dirt or damage is visible. All bundled items are included.\n",
      "C: Opened item with conspicuous damage. Sub parts may be missing.\n",
      "J: Main item or main parts are missing, severely damaged, and/or having problem with operation.\n",
      "-Condition Ranking for Package\n",
      "A: No damage to the box is visible.\n",
      "B: Some damage to the box is visible.\n",
      "C: Box is clearly damaged.\n",
      "N: No box/packaging is included. (item is loose)\n",
      "-Leaflet, application ticket, code such as download codes, batteries, candy toy, are not guaranteed to be included with the item or not being used.\n",
      "-The figure which is released in several years ago might become sticky due to its material. Please note that we are not providing item exchange service.\n",
      "-The cardboard box for transportation is not included.\n"
     ]
    }
   ],
   "source": [
    "item_specs = figure_soup.find(class_ = [\"more\"])\n",
    "        \n",
    "specs = item_specs.get_text(\"|\")    # Joins the bits of text together using | & clears out the <br/> tags\n",
    "splitSpecs = specs.split(\"|\")       # Separates the long string into bits of strings so we can access stuff we want easier\n",
    "flag = 0\n",
    "for s in splitSpecs:\n",
    "    print(s)\n",
    "    if flag != 1:\n",
    "        if \"Size\" in s:\n",
    "            # fig_size = \"\"\n",
    "            fig_size = s\n",
    "            flag = 1\n",
    "        else:\n",
    "            fig_size = temp_list[8]"
   ]
  },
  {
   "cell_type": "code",
   "execution_count": 23,
   "metadata": {},
   "outputs": [
    {
     "data": {
      "text/plain": [
       "'Size: Approx. 18cm'"
      ]
     },
     "execution_count": 23,
     "metadata": {},
     "output_type": "execute_result"
    }
   ],
   "source": [
    "fig_size"
   ]
  },
  {
   "cell_type": "code",
   "execution_count": 25,
   "metadata": {},
   "outputs": [],
   "source": [
    "name_list.append(fig_name)\n",
    "date_list.append(fig_release_date)\n",
    "price_list.append(fig_price)\n",
    "shop_code_list.append(fig_shop_code)\n",
    "JAN_code_list.append(fig_JAN_code)\n",
    "brand_list.append(fig_brand)\n",
    "series_title_list.append(fig_series_title)\n",
    "char_name_list.append(fig_char_name)\n",
    "sculptor_list.append(fig_sculptor)\n",
    "size_list.append(fig_size)"
   ]
  },
  {
   "cell_type": "code",
   "execution_count": 26,
   "metadata": {},
   "outputs": [],
   "source": [
    "df_figure = pd.DataFrame(\n",
    "    {'Name': name_list,\n",
    "     'Release Date': date_list,\n",
    "     'Price': price_list,\n",
    "     'Shop Code': shop_code_list,\n",
    "     'JAN Code': JAN_code_list,\n",
    "     'Brand': brand_list,\n",
    "     'Series Title': series_title_list,\n",
    "     'Character Name': char_name_list,\n",
    "     'Sculptor': sculptor_list,\n",
    "     'Size Specifications': size_list\n",
    "    })"
   ]
  },
  {
   "cell_type": "code",
   "execution_count": 27,
   "metadata": {},
   "outputs": [
    {
     "data": {
      "text/html": [
       "<div>\n",
       "<style scoped>\n",
       "    .dataframe tbody tr th:only-of-type {\n",
       "        vertical-align: middle;\n",
       "    }\n",
       "\n",
       "    .dataframe tbody tr th {\n",
       "        vertical-align: top;\n",
       "    }\n",
       "\n",
       "    .dataframe thead th {\n",
       "        text-align: right;\n",
       "    }\n",
       "</style>\n",
       "<table border=\"1\" class=\"dataframe\">\n",
       "  <thead>\n",
       "    <tr style=\"text-align: right;\">\n",
       "      <th></th>\n",
       "      <th>Name</th>\n",
       "      <th>Release Date</th>\n",
       "      <th>Price</th>\n",
       "      <th>Shop Code</th>\n",
       "      <th>JAN Code</th>\n",
       "      <th>Brand</th>\n",
       "      <th>Series Title</th>\n",
       "      <th>Character Name</th>\n",
       "      <th>Sculptor</th>\n",
       "      <th>Size Specifications</th>\n",
       "    </tr>\n",
       "  </thead>\n",
       "  <tbody>\n",
       "    <tr>\n",
       "      <th>0</th>\n",
       "      <td>[(Pre-owned ITEM:B/BOX:B)Comic Aun Alice illus...</td>\n",
       "      <td>[Nov-2020]</td>\n",
       "      <td>[16,280 JPY]</td>\n",
       "      <td>[FIGURE-060005-R149]</td>\n",
       "      <td>[4562283281713]</td>\n",
       "      <td>[[[SkyTube]]]</td>\n",
       "      <td>[[[Comic Aun]]]</td>\n",
       "      <td>[[[Alice]]]</td>\n",
       "      <td>[HIRO, [ ]]</td>\n",
       "      <td>Size: Main Part: Approx. H25.5cm</td>\n",
       "    </tr>\n",
       "    <tr>\n",
       "      <th>1</th>\n",
       "      <td>[(Pre-owned ITEM:B/BOX:B)Comic Aun Alice illus...</td>\n",
       "      <td>[Nov-2020]</td>\n",
       "      <td>[16,280 JPY]</td>\n",
       "      <td>[FIGURE-060005-R149]</td>\n",
       "      <td>[4562283281713]</td>\n",
       "      <td>[[[SkyTube]]]</td>\n",
       "      <td>[[[Comic Aun]]]</td>\n",
       "      <td>[[[Alice]]]</td>\n",
       "      <td>[HIRO, [ ]]</td>\n",
       "      <td>Size: Main Part: Approx. H25.5cm</td>\n",
       "    </tr>\n",
       "    <tr>\n",
       "      <th>2</th>\n",
       "      <td>[(Pre-owned ITEM:B/BOX:B)Comic Aun Alice illus...</td>\n",
       "      <td>Nov-2020</td>\n",
       "      <td>16,280 JPY</td>\n",
       "      <td>FIGURE-060005-R149</td>\n",
       "      <td>4562283281713</td>\n",
       "      <td>SkyTube</td>\n",
       "      <td>Comic Aun</td>\n",
       "      <td>Alice</td>\n",
       "      <td>HIRO</td>\n",
       "      <td>Size: Main Part: Approx. H25.5cm</td>\n",
       "    </tr>\n",
       "  </tbody>\n",
       "</table>\n",
       "</div>"
      ],
      "text/plain": [
       "                                                Name Release Date  \\\n",
       "0  [(Pre-owned ITEM:B/BOX:B)Comic Aun Alice illus...   [Nov-2020]   \n",
       "1  [(Pre-owned ITEM:B/BOX:B)Comic Aun Alice illus...   [Nov-2020]   \n",
       "2  [(Pre-owned ITEM:B/BOX:B)Comic Aun Alice illus...     Nov-2020   \n",
       "\n",
       "          Price             Shop Code         JAN Code          Brand  \\\n",
       "0  [16,280 JPY]  [FIGURE-060005-R149]  [4562283281713]  [[[SkyTube]]]   \n",
       "1  [16,280 JPY]  [FIGURE-060005-R149]  [4562283281713]  [[[SkyTube]]]   \n",
       "2    16,280 JPY    FIGURE-060005-R149    4562283281713        SkyTube   \n",
       "\n",
       "      Series Title Character Name     Sculptor  \\\n",
       "0  [[[Comic Aun]]]    [[[Alice]]]  [HIRO, [ ]]   \n",
       "1  [[[Comic Aun]]]    [[[Alice]]]  [HIRO, [ ]]   \n",
       "2        Comic Aun          Alice        HIRO    \n",
       "\n",
       "                Size Specifications  \n",
       "0  Size: Main Part: Approx. H25.5cm  \n",
       "1  Size: Main Part: Approx. H25.5cm  \n",
       "2  Size: Main Part: Approx. H25.5cm  "
      ]
     },
     "execution_count": 27,
     "metadata": {},
     "output_type": "execute_result"
    }
   ],
   "source": [
    "df_figure"
   ]
  }
 ],
 "metadata": {
  "kernelspec": {
   "display_name": "myenv",
   "language": "python",
   "name": "python3"
  },
  "language_info": {
   "codemirror_mode": {
    "name": "ipython",
    "version": 3
   },
   "file_extension": ".py",
   "mimetype": "text/x-python",
   "name": "python",
   "nbconvert_exporter": "python",
   "pygments_lexer": "ipython3",
   "version": "3.10.13"
  }
 },
 "nbformat": 4,
 "nbformat_minor": 2
}
